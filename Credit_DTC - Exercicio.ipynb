{
 "cells": [
  {
   "cell_type": "markdown",
   "metadata": {},
   "source": [
    "#                          Classificação utilizando Decision Trees"
   ]
  },
  {
   "cell_type": "markdown",
   "metadata": {},
   "source": [
    "**Introdução**\n",
    "Esse código irá identificar o risco de emprétimos bancários utilizando árvore de decisão com os dados disponíveis no [GitHub Decision Tree](https://raw.githubusercontent.com/PECCE-IFSC/Oficina_2019/master/credit.csv).\n",
    "\n",
    "O _dataset_ que será analisado contém as seguintes colunas:\n",
    "* **checking_balance** : Saldo bancário;\n",
    "* **months_loan_duration**: Em quantos meses o empréstimo será quitado;\n",
    "* **purpose**: Motivo do empréstimo;\n",
    "* **amount**: Valor desejado;\n",
    "* **savings_balance**: Economias;\n",
    "* **employment_length**: Há quanto tempo a pessoa está trabalhando;\n",
    "* **installment_rate**: Taxa de parcelamento;\n",
    "* **personal_status**: Estado Civil;\n",
    "* **other_debtors**: outros fiadores;\n",
    "* **residence_history**: Histórico de residências;\n",
    "* **property**: Propriedades;\n",
    "* **age**: Idade;\n",
    "* **installment_plan**: Plano de parcelamento;\n",
    "* **housing**: Tipo de moradia - aluguel,  casa própria ...\n",
    "* **existing_credits**: Crédito existente; \n",
    "* **default**: Empréstimo pago ou não - 1:pago, 2:não pago;\n",
    "* **dependents**: Dependentes;\n",
    "* **telephone**: Telefone;\n",
    "* **foreign_worker**: Trabalhador estrangeiro\n",
    "* **job**: Ocupação - empresário, empregado....."
   ]
  },
  {
   "cell_type": "markdown",
   "metadata": {},
   "source": [
    "## 1 Coleta dos dados"
   ]
  },
  {
   "cell_type": "code",
   "execution_count": null,
   "metadata": {
    "collapsed": true
   },
   "outputs": [],
   "source": [
    "import pandas as pd\n",
    "import matplotlib.pyplot as plt\n",
    "import numpy as np\n",
    "import seaborn as sns"
   ]
  },
  {
   "cell_type": "code",
   "execution_count": null,
   "metadata": {},
   "outputs": [],
   "source": [
    "# importar os dados \n",
    "file = pd.read_csv(\"https://raw.githubusercontent.com/PECCE-IFSC/Oficina_2019/master/credit.csv\")\n",
    "# verificar características de cada coluna. \n",
    "file.head()"
   ]
  },
  {
   "cell_type": "code",
   "execution_count": null,
   "metadata": {},
   "outputs": [],
   "source": [
    "# verificar as dimensões do Data frame\n",
    "print(file.shape)"
   ]
  },
  {
   "cell_type": "markdown",
   "metadata": {},
   "source": [
    "## 2 Analisar a relevância de cada característica"
   ]
  },
  {
   "cell_type": "markdown",
   "metadata": {},
   "source": [
    "* Utiliza-se a biblioteca `matplotlib` para gerar um [histograma](https://matplotlib.org/api/_as_gen/matplotlib.pyplot.hist.html), para analisar a relação entre as características do conjunto de dados"
   ]
  },
  {
   "cell_type": "code",
   "execution_count": null,
   "metadata": {},
   "outputs": [],
   "source": [
    "# É uma palavra chave para que os gráficos sejam mostrados no seu notebook\n",
    "%matplotlib inline  \n",
    "\n",
    "# Primeiro determina-se o tamanho desejado da figura que será gerada\n",
    "plt.figure(figsize=(10,6))\n",
    "# Análise da coluna 'default' em relação a coluna 'age'\n",
    "# Para poder analisar melhor os resultados, para cada resposta de 'default', o histograma é gerado com uma cor diferente\n",
    "file[file['default']==1]['age'].hist(alpha=0.5,color='blue',\n",
    "                                              bins=30,label='Default = Pagou')\n",
    "file[file['default']==2]['age'].hist(alpha=0.5,color='red',\n",
    "                                              bins=30,label='Default = Não Pagou')\n",
    "plt.legend()\n",
    "plt.xlabel('Age')"
   ]
  },
  {
   "cell_type": "code",
   "execution_count": null,
   "metadata": {},
   "outputs": [],
   "source": [
    "plt.figure(figsize=(10,6))\n",
    "# Análise da coluna 'default' em relação a coluna 'months_loan_duration'\n",
    "file[file['default']==1]['months_loan_duration'].hist(alpha=0.5,color='blue',\n",
    "                                              bins=30,label='Default = Pagou')\n",
    "file[file['default']==2]['months_loan_duration'].hist(alpha=0.5,color='red',\n",
    "                                              bins=30,label='Default = Não Pagou')\n",
    "plt.legend()\n",
    "plt.xlabel('months_loan_duration')"
   ]
  },
  {
   "cell_type": "markdown",
   "metadata": {},
   "source": [
    "* Utiliza-se a biblioteca `seaborn`, similar a biblioteca `matplotlib`, para gerar um [gráfico de barra](https://seaborn.pydata.org/generated/seaborn.countplot.html)."
   ]
  },
  {
   "cell_type": "code",
   "execution_count": null,
   "metadata": {},
   "outputs": [],
   "source": [
    "plt.figure(figsize=(11,7))\n",
    "# Análise da coluna 'default' em relação a coluna 'housing'\n",
    "colors = [\"blue\", \"red\"]\n",
    "sns.countplot(x='housing',hue='default',data=file,palette= sns.xkcd_palette(colors))"
   ]
  },
  {
   "cell_type": "markdown",
   "metadata": {},
   "source": [
    "### Exercício\n",
    "* Analise uma característica diferente das citadas anteriormente"
   ]
  },
  {
   "cell_type": "code",
   "execution_count": null,
   "metadata": {
    "collapsed": true
   },
   "outputs": [],
   "source": []
  },
  {
   "cell_type": "markdown",
   "metadata": {},
   "source": [
    "## 3 Preparação dos dados"
   ]
  },
  {
   "cell_type": "markdown",
   "metadata": {
    "collapsed": true
   },
   "source": [
    "* Utilizou-se a função **LabelEncoder()** para transformar as características com dados nominais em dados numéricos.\n",
    "* A função **LabelEncoder.fit_transform** ajusta as características e retorna os dados codificados"
   ]
  },
  {
   "cell_type": "code",
   "execution_count": null,
   "metadata": {
    "collapsed": true
   },
   "outputs": [],
   "source": [
    "from sklearn.preprocessing import LabelEncoder\n",
    "le = LabelEncoder()\n",
    "for col in ['checking_balance', 'savings_balance', \n",
    "            'employment_length', 'credit_history', \n",
    "            'purpose', 'personal_status', 'other_debtors', \n",
    "            'property', 'installment_plan', 'housing', \n",
    "            'telephone', 'foreign_worker', 'job']:\n",
    "    file[col] = le.fit_transform(file[col])"
   ]
  },
  {
   "cell_type": "markdown",
   "metadata": {},
   "source": [
    "### Exercício\n",
    "* Verifique os tipos de dados de cada coluna após a codificação"
   ]
  },
  {
   "cell_type": "code",
   "execution_count": null,
   "metadata": {
    "collapsed": true
   },
   "outputs": [],
   "source": [
    "# verificar os tipos dos dados \n"
   ]
  },
  {
   "cell_type": "markdown",
   "metadata": {},
   "source": [
    "## 4 Separação dos dados \n",
    "* Utilizou-se a função **train_test_split** para separar os dados em teste e treino, 10% (`test_size = 0.1`) e 90%, respectivamente"
   ]
  },
  {
   "cell_type": "code",
   "execution_count": null,
   "metadata": {
    "collapsed": true
   },
   "outputs": [],
   "source": [
    "from sklearn.model_selection import train_test_split\n",
    "credit_train, credit_test = train_test_split(file, test_size = 0.1, \n",
    "                                             random_state = 123)"
   ]
  },
  {
   "cell_type": "code",
   "execution_count": null,
   "metadata": {
    "collapsed": true
   },
   "outputs": [],
   "source": [
    "# Separou-se a coluna 'default' de credit_train, armazenando-a em train_labels\n",
    "train_labels = credit_train.pop('default')"
   ]
  },
  {
   "cell_type": "markdown",
   "metadata": {},
   "source": [
    "### Exercício\n",
    "* Separar a coluna `default` do `credit_test`, armazenando-o em `test_labels`"
   ]
  },
  {
   "cell_type": "code",
   "execution_count": null,
   "metadata": {
    "collapsed": true
   },
   "outputs": [],
   "source": [
    "# Separar a coluna 'default' de credit_test\n"
   ]
  },
  {
   "cell_type": "markdown",
   "metadata": {},
   "source": [
    "##  5 Treinar o modelo\n",
    "### Exercício\n",
    "* A partir da biblioteca **sklearn.tree** importou-se a classe `DecisionTreeClassifier`\n",
    "* Crie uma instância da classe com a função  **DecisionTreeClassifier(max_depth=)**, utilize a profundidade (`max_depth`) igual a 4.\n",
    "* Treine o algorítmo DecisionTreeClassifier, utilizando a função **DecisionTreeClassifier.fit(x_train, y_train)**, passando como paramêtros a variável `credit_train` (x_train) e a variável `train_labels` (y_train)\n",
    "* Com a função **DecisionTreeClassifier.predict(x_test)**, teste o código usando a variável `credit_test`."
   ]
  },
  {
   "cell_type": "code",
   "execution_count": null,
   "metadata": {
    "collapsed": true
   },
   "outputs": [],
   "source": [
    "from sklearn.tree import DecisionTreeClassifier\n",
    "\n",
    "# Crie um instância da classe \n",
    "\n",
    "# Treine o algoritmo DecisionTreeClassifier\n",
    "\n",
    "# Teste o algoritmo\n"
   ]
  },
  {
   "cell_type": "markdown",
   "metadata": {},
   "source": [
    "## 6 Avaliando o desempenho do modelo\n",
    "* A partir da biblioteca **sklearn.metrics** importaram-se as funções `accuracy_score` e `confusion_matrix`\n",
    "* Calculou-se a exatidão utilizando a função **accuracy_score**"
   ]
  },
  {
   "cell_type": "code",
   "execution_count": null,
   "metadata": {
    "collapsed": true
   },
   "outputs": [],
   "source": [
    "from sklearn.metrics import accuracy_score, confusion_matrix\n",
    "\n",
    "confusion_matrix_ = pd.DataFrame (confusion_matrix(test_labels, y_predict), \n",
    "                                  columns =['Previsto como Pagamento Realizado', 'Previsto como Pagamento Não Realizado'], \n",
    "                                  index =['Pagamento Realizado', 'Pagamento Não Realizado'])\n",
    "\n",
    "print(accuracy_score (test_labels, y_predict))\n",
    "confusion_matrix_"
   ]
  },
  {
   "cell_type": "markdown",
   "metadata": {},
   "source": [
    "## 7 Exportar a árvore de decisão\n",
    "* Para visualizar a árvore de decisão é necessário criar um arquivo em formato DOT, utilizando a função **export_graphviz**, e então utilizar o seguinte site: [Graphviz](http://www.webgraphviz.com/) para exibir a árvore com os dados gerados."
   ]
  },
  {
   "cell_type": "code",
   "execution_count": null,
   "metadata": {},
   "outputs": [],
   "source": [
    "from sklearn.tree import export_graphviz\n",
    "with open(\"CREDIT_TREE.txt\", \"w\") as f:\n",
    "    f = export_graphviz(DTC, out_file=f, class_names = ['pagou', 'nao pagou'],\n",
    "                        filled = True, feature_names = list(credit_test.columns))\n",
    "    "
   ]
  },
  {
   "cell_type": "code",
   "execution_count": null,
   "metadata": {
    "collapsed": true
   },
   "outputs": [],
   "source": []
  }
 ],
 "metadata": {
  "kernelspec": {
   "display_name": "Python 3",
   "language": "python",
   "name": "python3"
  },
  "language_info": {
   "codemirror_mode": {
    "name": "ipython",
    "version": 3
   },
   "file_extension": ".py",
   "mimetype": "text/x-python",
   "name": "python",
   "nbconvert_exporter": "python",
   "pygments_lexer": "ipython3",
   "version": "3.6.1"
  }
 },
 "nbformat": 4,
 "nbformat_minor": 2
}
